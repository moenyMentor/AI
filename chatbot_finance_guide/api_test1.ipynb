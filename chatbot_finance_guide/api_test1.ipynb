{
 "cells": [
  {
   "cell_type": "code",
   "execution_count": 2,
   "metadata": {},
   "outputs": [
    {
     "name": "stderr",
     "output_type": "stream",
     "text": [
      "c:\\Users\\Jonnior_P\\IBM_AI_Hackathon\\gust-ibm-ai-hackathon\\final_porj\\lib\\site-packages\\sentence_transformers\\cross_encoder\\CrossEncoder.py:11: TqdmWarning: IProgress not found. Please update jupyter and ipywidgets. See https://ipywidgets.readthedocs.io/en/stable/user_install.html\n",
      "  from tqdm.autonotebook import tqdm, trange\n"
     ]
    }
   ],
   "source": [
    "import os\n",
    "from dotenv import load_dotenv\n",
    "import requests\n",
    "from collections import OrderedDict\n",
    "import json\n",
    "from langchain_community.document_loaders import TextLoader\n",
    "from langchain_text_splitters import RecursiveCharacterTextSplitter\n",
    "from sentence_transformers import SentenceTransformer\n",
    "import chromadb\n",
    "from tqdm import tqdm\n",
    "import pandas as pd\n",
    "\n",
    "\n",
    "# .env 파일에서 API 키와 URL 가져오기\n",
    "load_dotenv()\n",
    "api_key = os.getenv(\"FINANCE_API_KEY\")\n",
    "api_url = os.getenv(\"API_URL\")\n",
    "\n",
    "data_str = ''\n",
    "\n",
    "def fetch_data(page_no):\n",
    "    # 요청 헤더 설정\n",
    "    api_url=f\"http://finlife.fss.or.kr/finlifeapi/savingProductsSearch.json?auth={api_key}&topFinGrpNo=020000&pageNo={page_no}\"\n",
    "    print(api_url)\n",
    "    try:\n",
    "        # API 요청 보내기\n",
    "        response = requests.get(api_url)\n",
    "        response.raise_for_status() \n",
    "\n",
    "        if response.status_code == 200:\n",
    "            return response.json()\n",
    "        else:\n",
    "            print(f\"Request failed with status code {response.status_code}\")\n",
    "            return None\n",
    "    except requests.exceptions.RequestException as e:\n",
    "        print(f\"An error occurred: {e}\")\n",
    "        return None"
   ]
  },
  {
   "cell_type": "code",
   "execution_count": 4,
   "metadata": {},
   "outputs": [
    {
     "name": "stdout",
     "output_type": "stream",
     "text": [
      "http://finlife.fss.or.kr/finlifeapi/savingProductsSearch.json?auth=c8e133d4e8feb53314983eebbdbefc3c&topFinGrpNo=020000&pageNo=100\n"
     ]
    },
    {
     "data": {
      "text/plain": [
       "{'result': {'prdt_div': 'S',\n",
       "  'total_count': 62,\n",
       "  'max_page_no': 1,\n",
       "  'now_page_no': 100,\n",
       "  'err_cd': '000',\n",
       "  'err_msg': '정상',\n",
       "  'baseList': [],\n",
       "  'optionList': []}}"
      ]
     },
     "execution_count": 4,
     "metadata": {},
     "output_type": "execute_result"
    }
   ],
   "source": [
    "fetch_data(1)"
   ]
  },
  {
   "cell_type": "code",
   "execution_count": null,
   "metadata": {},
   "outputs": [],
   "source": []
  }
 ],
 "metadata": {
  "kernelspec": {
   "display_name": "final_porj",
   "language": "python",
   "name": "python3"
  },
  "language_info": {
   "codemirror_mode": {
    "name": "ipython",
    "version": 3
   },
   "file_extension": ".py",
   "mimetype": "text/x-python",
   "name": "python",
   "nbconvert_exporter": "python",
   "pygments_lexer": "ipython3",
   "version": "3.10.11"
  }
 },
 "nbformat": 4,
 "nbformat_minor": 2
}
